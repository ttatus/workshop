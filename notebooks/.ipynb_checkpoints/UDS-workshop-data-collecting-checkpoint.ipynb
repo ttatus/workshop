{
 "cells": [
  {
   "cell_type": "markdown",
   "metadata": {},
   "source": [
    "# Sentiment analysis\n",
    "###### Oleksandr Panchenko\n",
    "\n",
    "### Table of contents\n",
    "1. Business problem \n",
    "2. Where we can find the data\n",
    "3. How to collect the data\n",
    "4. Data analysis\n",
    "\n",
    "<hr style=\"height: 1px; background-color: #808080\">"
   ]
  },
  {
   "cell_type": "markdown",
   "metadata": {},
   "source": [
    "Sentiment analysis is a natural language processing problem that refers to the extraction or identifying the sentiment content of a text unit. The task may be interpreted as a binary classification task. Nevertheless, sometimes it might be useful to classify the reviews on three classes: positive, negative, neutral.\n",
    "\n",
    "![](https://image.ibb.co/dS2kbQ/ezgif_1_d3df0c961a.gif)\n",
    "\n",
    "Sentiment analysis helps the business to understand customers' opinions about the products or services that the business provides.\n",
    "\n",
    "\n",
    "## Where we can find the data?\n",
    "1. Websites parsing\n",
    "    * Amazon\n",
    "    * RottenTomatoes\n",
    "    * IMDB\n",
    "2. Open-source datasets\n",
    "    * [IMDB movies dataset](https://sites.google.com/site/nquocdai/resources) - 234,000 reviews\n",
    "    * [AMAZON goods](http://snap.stanford.edu/data/web-Amazon.html) - 34,686,770 reviews\n",
    "    * [MovieLens Film Reviews](https://grouplens.org/datasets/movielens/) - 20,000,000 reviews\n",
    "    * [Twitter](http://thinknook.com/twitter-sentiment-analysis-training-corpus-dataset-2012-09-22/) - 1,500,000 reviews"
   ]
  },
  {
   "cell_type": "markdown",
   "metadata": {},
   "source": [
    "<hr style=\"height: 1px; background-color: #808080\">"
   ]
  },
  {
   "cell_type": "markdown",
   "metadata": {
    "collapsed": true
   },
   "source": [
    "### Let's start parsing?\n",
    "![](https://image.ibb.co/jvmWy5/memes1.png)"
   ]
  },
  {
   "cell_type": "markdown",
   "metadata": {
    "collapsed": true
   },
   "source": [
    "### How can we parse the data?"
   ]
  },
  {
   "cell_type": "markdown",
   "metadata": {
    "collapsed": true
   },
   "source": [
    "#### 1. Write your own parser\n",
    "Let's look at the main page of the rottentomatoes.com website\n",
    "![](https://image.ibb.co/hbsm0k/Screen_Shot_2017_04_14_at_17_32_08.png)\n",
    "![](https://image.ibb.co/hX7EmQ/Screen_Shot_2017_04_14_at_21_13_04.png)\n",
    "Here is a link to a service that provides a list with films\n",
    "![](https://image.ibb.co/iyQTD5/Screen_Shot_2017_04_14_at_17_33_18.png)\n",
    "Now let's look at the page with the reviews\n",
    "![](https://image.ibb.co/j5Uc6Q/Screen_Shot_2017_04_14_at_17_37_07.png)\n",
    "Let's also look at how pagination works\n",
    "![](https://image.ibb.co/gmUoD5/Screen_Shot_2017_04_14_at_18_09_17.png)"
   ]
  },
  {
   "cell_type": "code",
   "execution_count": 2,
   "metadata": {
    "collapsed": true
   },
   "outputs": [],
   "source": [
    "import requests\n",
    "from bs4 import BeautifulSoup\n",
    "import csv\n",
    "import datetime\n",
    "import pandas as pd\n",
    "\n",
    "\n",
    "def log(msg):\n",
    "    print(str(datetime.datetime.now()) + ' : ' + msg)"
   ]
  },
  {
   "cell_type": "code",
   "execution_count": 2,
   "metadata": {},
   "outputs": [],
   "source": [
    "review_link = \"https://www.rottentomatoes.com/m/{}/reviews/?type=user&page={}\"\n",
    "total_reviews = 0\n",
    "\n",
    "def http_get(url):\n",
    "    return BeautifulSoup(requests.get(url).text, 'html.parser')\n",
    "\n",
    "\n",
    "def parse_single_reviews_page(soup, writer):\n",
    "    review_divs = soup.find_all('div', {'class': 'col-xs-16'})\n",
    "    for rd in review_divs:\n",
    "        rating = len(rd.find_all('span', {'class': 'glyphicon-star'}))\n",
    "        text = rd.find('div', {'class': 'user_review'}).getText().strip()\n",
    "        half_point = rd.find('span', {'class': 'fl'})\n",
    "        if half_point and len(half_point.getText().strip()) > 0:\n",
    "            rating += 0.5\n",
    "        writer.writerow({\n",
    "            'label': rating,\n",
    "            'text': text\n",
    "        })\n",
    "        global total_reviews\n",
    "        total_reviews += 1\n",
    "        if total_reviews % 100 == 0:\n",
    "            log(\"Total reviews: \" + str(total_reviews))\n",
    "\n",
    "\n",
    "def parse_single_movie(movie_name, writer):\n",
    "    current_page = 1\n",
    "    soup = http_get(review_link.format(movie_name, current_page))\n",
    "    parse_single_reviews_page(soup, writer)\n",
    "    pages = soup.find('span', {'class': 'pageInfo'})\n",
    "    if pages:\n",
    "        page_num = int(pages.getText().split()[-1])\n",
    "        while current_page < page_num:\n",
    "            current_page += 1\n",
    "            soup = http_get(review_link.format(movie_name, current_page))\n",
    "            parse_single_reviews_page(soup, writer)"
   ]
  },
  {
   "cell_type": "code",
   "execution_count": 3,
   "metadata": {},
   "outputs": [],
   "source": [
    "def get_movies_info(offset, limit):\n",
    "    url = \"http://rt-client-facade-v2-6-1.aws.prod.flixster.com/\\\n",
    "    movie?expand=true&filter=%7B%22country%22%3A%22UA%22%2C%22search\\\n",
    "    %22%3A%7B%22mpaa-rating-min%22%3A%22G%22%2C%22release-year-max%22%3A2017\\\n",
    "    %2C%22filter-release-date%22%3A%22false%22%2C%22offset%22%3A{}%2C%22\\\n",
    "    services%22%3A%5B%22amazon%22%2C%22hbo_go%22%2C%22itunes%22%2C%22\\\n",
    "    netflix_iw%22%2C%22vudu%22%2C%22amazon_prime%22%2C%22fandango_now%22%5D%2C%22\\\n",
    "    sort%22%3A%22DVD_RELEASE_DATE_DESC%22%2C%22distribution%22%3A%22ANY%22%2C%22\\\n",
    "    tomatometer-min%22%3A0%2C%22mpaa-rating-max%22%3A%22UN%22%2C%22release-day-of-month-max\\\n",
    "    %22%3A14%2C%22limit%22%3A{}%2C%22release-month-max%22%3A4%2C%22tomatometer-max\\\n",
    "    %22%3A100%2C%22use-dvd-date%22%3Atrue%2C%22status%22%3A%22LIVE%22%7D%7D\".replace(\" \", \"\").format(offset, limit)\n",
    "    return requests.get(url).json()['data']"
   ]
  },
  {
   "cell_type": "code",
   "execution_count": 4,
   "metadata": {},
   "outputs": [
    {
     "data": {
      "text/plain": [
       "[{'advisory': 'for brief nudity and some thematic elements',\n",
       "  'creationDate': '2015-08-16T06:51:23-07:00',\n",
       "  'id': '771423268',\n",
       "  'lastModifiedDate': '2017-04-14T06:43:22-07:00',\n",
       "  'movieBoxOfficeInfo': None,\n",
       "  'mpaaRating': 'PG13',\n",
       "  'title': 'Queen of the Desert',\n",
       "  'tomatometer': {'state': 'rotten', 'value': 15},\n",
       "  'type': 'movie',\n",
       "  'vanity': 'queen_of_the_desert',\n",
       "  'year': 2017},\n",
       " {'advisory': None,\n",
       "  'creationDate': '2016-07-22T18:47:12-07:00',\n",
       "  'id': '771446839',\n",
       "  'lastModifiedDate': '2017-04-17T09:31:29-07:00',\n",
       "  'movieBoxOfficeInfo': None,\n",
       "  'mpaaRating': 'NR',\n",
       "  'title': 'Sandy Wexler',\n",
       "  'tomatometer': {'state': 'rotten', 'value': 33},\n",
       "  'type': 'movie',\n",
       "  'vanity': 'sandy_wexler',\n",
       "  'year': 2017}]"
      ]
     },
     "execution_count": 4,
     "metadata": {},
     "output_type": "execute_result"
    }
   ],
   "source": [
    "get_movies_info(0, 2)"
   ]
  },
  {
   "cell_type": "code",
   "execution_count": 5,
   "metadata": {},
   "outputs": [
    {
     "name": "stdout",
     "output_type": "stream",
     "text": [
      "2017-04-18 20:33:56.783141 : Start\n",
      "2017-04-18 20:34:03.563579 : Total reviews: 100\n",
      "2017-04-18 20:34:08.166518 : Total reviews: 200\n",
      "2017-04-18 20:34:13.725555 : Total reviews: 300\n",
      "2017-04-18 20:34:16.764639 : Done\n"
     ]
    }
   ],
   "source": [
    "MAX_MOVIES = 4 # 18448\n",
    "offset = 0\n",
    "limit = 10\n",
    "enough = False\n",
    "total_movies = 0\n",
    "\n",
    "log(\"Start\")\n",
    "with open(\"parsed_data.csv\", \"a\", encoding='utf-8') as f:\n",
    "    writer = csv.DictWriter(f, ['label', 'text'])\n",
    "    writer.writeheader()\n",
    "    while total_movies <= MAX_MOVIES:\n",
    "        movies_data = get_movies_info(offset, limit)\n",
    "        for movie_data in movies_data:\n",
    "            if total_movies > MAX_MOVIES:\n",
    "                break;\n",
    "            movie_title = movie_data['vanity']\n",
    "            if movie_title:\n",
    "                parse_single_movie(movie_title, writer)\n",
    "            total_movies += 1\n",
    "        offset += limit\n",
    "log(\"Done\")\n"
   ]
  },
  {
   "cell_type": "code",
   "execution_count": 9,
   "metadata": {},
   "outputs": [
    {
     "data": {
      "text/html": [
       "<div>\n",
       "<table border=\"1\" class=\"dataframe\">\n",
       "  <thead>\n",
       "    <tr style=\"text-align: right;\">\n",
       "      <th></th>\n",
       "      <th>label</th>\n",
       "      <th>text</th>\n",
       "    </tr>\n",
       "  </thead>\n",
       "  <tbody>\n",
       "    <tr>\n",
       "      <th>0</th>\n",
       "      <td>3.5</td>\n",
       "      <td>I I would say that monster trucks very predict...</td>\n",
       "    </tr>\n",
       "    <tr>\n",
       "      <th>1</th>\n",
       "      <td>1.0</td>\n",
       "      <td>Horrible and boring and bad acting</td>\n",
       "    </tr>\n",
       "    <tr>\n",
       "      <th>2</th>\n",
       "      <td>3.0</td>\n",
       "      <td>Funny movie for the kid in yourself. Also a go...</td>\n",
       "    </tr>\n",
       "    <tr>\n",
       "      <th>3</th>\n",
       "      <td>5.0</td>\n",
       "      <td>Great movie for all. Good graphics and clean. ...</td>\n",
       "    </tr>\n",
       "    <tr>\n",
       "      <th>4</th>\n",
       "      <td>3.5</td>\n",
       "      <td>alien type et film... enjoyable</td>\n",
       "    </tr>\n",
       "  </tbody>\n",
       "</table>\n",
       "</div>"
      ],
      "text/plain": [
       "   label                                               text\n",
       "0    3.5  I I would say that monster trucks very predict...\n",
       "1    1.0                 Horrible and boring and bad acting\n",
       "2    3.0  Funny movie for the kid in yourself. Also a go...\n",
       "3    5.0  Great movie for all. Good graphics and clean. ...\n",
       "4    3.5                    alien type et film... enjoyable"
      ]
     },
     "execution_count": 9,
     "metadata": {},
     "output_type": "execute_result"
    }
   ],
   "source": [
    "parsed_df = pd.read_csv('parsed_data.csv')\n",
    "parsed_df.head()"
   ]
  },
  {
   "cell_type": "markdown",
   "metadata": {},
   "source": [
    "#### 2. Web widgets. \n",
    "Pros:\n",
    "    * easy to use\n",
    "    * no need to spend time on coding\n",
    "Cons:\n",
    "    * limited functionality\n",
    "Example: [Web Scraper for Chrome](http://webscraper.io/)"
   ]
  },
  {
   "cell_type": "code",
   "execution_count": 10,
   "metadata": {},
   "outputs": [
    {
     "data": {
      "image/jpeg": "[encoded data removed]",
      "text/html": [
       "\n",
       "        <iframe\n",
       "            width=\"400\"\n",
       "            height=\"300\"\n",
       "            src=\"https://www.youtube.com/embed/y00t5NpW7pY\"\n",
       "            frameborder=\"0\"\n",
       "            allowfullscreen\n",
       "        ></iframe>\n",
       "        "
      ],
      "text/plain": [
       "<IPython.lib.display.YouTubeVideo at 0x1091b5da0>"
      ]
     },
     "execution_count": 10,
     "metadata": {},
     "output_type": "execute_result"
    }
   ],
   "source": [
    "from IPython.display import YouTubeVideo\n",
    "YouTubeVideo('y00t5NpW7pY')"
   ]
  },
  {
   "cell_type": "markdown",
   "metadata": {},
   "source": [
    "#### One more thing: READ TERMS OF USE BEFORE STARTING PARSING\n",
    "![](https://image.ibb.co/b76LrQ/Screen_Shot_2017_04_12_at_20_43_18.png)"
   ]
  },
  {
   "cell_type": "markdown",
   "metadata": {},
   "source": [
    "![](https://image.ibb.co/esr3BQ/13368226_original.jpg)"
   ]
  },
  {
   "cell_type": "markdown",
   "metadata": {},
   "source": [
    "## Data Analysis\n"
   ]
  },
  {
   "cell_type": "code",
   "execution_count": 3,
   "metadata": {},
   "outputs": [
    {
     "data": {
      "text/html": [
       "<div>\n",
       "<table border=\"1\" class=\"dataframe\">\n",
       "  <thead>\n",
       "    <tr style=\"text-align: right;\">\n",
       "      <th></th>\n",
       "      <th>label</th>\n",
       "      <th>text</th>\n",
       "    </tr>\n",
       "  </thead>\n",
       "  <tbody>\n",
       "    <tr>\n",
       "      <th>0</th>\n",
       "      <td>1</td>\n",
       "      <td>To an entire generation of filmgoers, it just ...</td>\n",
       "    </tr>\n",
       "    <tr>\n",
       "      <th>1</th>\n",
       "      <td>1</td>\n",
       "      <td>Pixar classic is one of the best kids' movies ...</td>\n",
       "    </tr>\n",
       "    <tr>\n",
       "      <th>2</th>\n",
       "      <td>1</td>\n",
       "      <td>Apesar de representar um imenso avanço tecnoló...</td>\n",
       "    </tr>\n",
       "    <tr>\n",
       "      <th>3</th>\n",
       "      <td>1</td>\n",
       "      <td>When Woody perks up in the opening scene, it's...</td>\n",
       "    </tr>\n",
       "    <tr>\n",
       "      <th>4</th>\n",
       "      <td>1</td>\n",
       "      <td>Introduced not one but two indelible character...</td>\n",
       "    </tr>\n",
       "    <tr>\n",
       "      <th>5</th>\n",
       "      <td>1</td>\n",
       "      <td>it is easy to see how virtually everything tha...</td>\n",
       "    </tr>\n",
       "    <tr>\n",
       "      <th>6</th>\n",
       "      <td>1</td>\n",
       "      <td>Though some of the animation seems dated compa...</td>\n",
       "    </tr>\n",
       "    <tr>\n",
       "      <th>7</th>\n",
       "      <td>1</td>\n",
       "      <td>Perhaps the film is meant as a pre-emptive sop...</td>\n",
       "    </tr>\n",
       "    <tr>\n",
       "      <th>8</th>\n",
       "      <td>1</td>\n",
       "      <td>Time has been kind to it, and future years I i...</td>\n",
       "    </tr>\n",
       "    <tr>\n",
       "      <th>9</th>\n",
       "      <td>1</td>\n",
       "      <td>I think I speak for all adults and kids when I...</td>\n",
       "    </tr>\n",
       "    <tr>\n",
       "      <th>10</th>\n",
       "      <td>1</td>\n",
       "      <td>So ingenious in concept, design and execution ...</td>\n",
       "    </tr>\n",
       "    <tr>\n",
       "      <th>11</th>\n",
       "      <td>1</td>\n",
       "      <td>Turns out the real magic is nothing to do with...</td>\n",
       "    </tr>\n",
       "    <tr>\n",
       "      <th>12</th>\n",
       "      <td>1</td>\n",
       "      <td>Its lightness of touch has not diminished, nor...</td>\n",
       "    </tr>\n",
       "    <tr>\n",
       "      <th>13</th>\n",
       "      <td>1</td>\n",
       "      <td>The 3-D viewing doesn't make much difference.....</td>\n",
       "    </tr>\n",
       "    <tr>\n",
       "      <th>14</th>\n",
       "      <td>1</td>\n",
       "      <td>It doesn't enhance the experience, because the...</td>\n",
       "    </tr>\n",
       "    <tr>\n",
       "      <th>15</th>\n",
       "      <td>1</td>\n",
       "      <td>As such Toy Story in 3D is never overwhelming....</td>\n",
       "    </tr>\n",
       "    <tr>\n",
       "      <th>16</th>\n",
       "      <td>1</td>\n",
       "      <td>The fresh look serves the story and is never a...</td>\n",
       "    </tr>\n",
       "    <tr>\n",
       "      <th>17</th>\n",
       "      <td>1</td>\n",
       "      <td>There's no denying 3D adds extra texture to Pi...</td>\n",
       "    </tr>\n",
       "    <tr>\n",
       "      <th>18</th>\n",
       "      <td>1</td>\n",
       "      <td>If anything, it feels even fresher, funnier an...</td>\n",
       "    </tr>\n",
       "    <tr>\n",
       "      <th>19</th>\n",
       "      <td>1</td>\n",
       "      <td>If you haven't seen it for a while, you may ha...</td>\n",
       "    </tr>\n",
       "    <tr>\n",
       "      <th>20</th>\n",
       "      <td>0</td>\n",
       "      <td>The humans are wooden, the computer-animals ha...</td>\n",
       "    </tr>\n",
       "    <tr>\n",
       "      <th>21</th>\n",
       "      <td>1</td>\n",
       "      <td>Some thrills, but may be too much for little o...</td>\n",
       "    </tr>\n",
       "    <tr>\n",
       "      <th>22</th>\n",
       "      <td>1</td>\n",
       "      <td>Like the rest of Johnston's oeuvre, Jumanji pu...</td>\n",
       "    </tr>\n",
       "    <tr>\n",
       "      <th>23</th>\n",
       "      <td>1</td>\n",
       "      <td>\"This smart, scary film, is still a favorite t...</td>\n",
       "    </tr>\n",
       "    <tr>\n",
       "      <th>24</th>\n",
       "      <td>0</td>\n",
       "      <td>All the effects in the world can't disguise th...</td>\n",
       "    </tr>\n",
       "  </tbody>\n",
       "</table>\n",
       "</div>"
      ],
      "text/plain": [
       "    label                                               text\n",
       "0       1  To an entire generation of filmgoers, it just ...\n",
       "1       1  Pixar classic is one of the best kids' movies ...\n",
       "2       1  Apesar de representar um imenso avanço tecnoló...\n",
       "3       1  When Woody perks up in the opening scene, it's...\n",
       "4       1  Introduced not one but two indelible character...\n",
       "5       1  it is easy to see how virtually everything tha...\n",
       "6       1  Though some of the animation seems dated compa...\n",
       "7       1  Perhaps the film is meant as a pre-emptive sop...\n",
       "8       1  Time has been kind to it, and future years I i...\n",
       "9       1  I think I speak for all adults and kids when I...\n",
       "10      1  So ingenious in concept, design and execution ...\n",
       "11      1  Turns out the real magic is nothing to do with...\n",
       "12      1  Its lightness of touch has not diminished, nor...\n",
       "13      1  The 3-D viewing doesn't make much difference.....\n",
       "14      1  It doesn't enhance the experience, because the...\n",
       "15      1  As such Toy Story in 3D is never overwhelming....\n",
       "16      1  The fresh look serves the story and is never a...\n",
       "17      1  There's no denying 3D adds extra texture to Pi...\n",
       "18      1  If anything, it feels even fresher, funnier an...\n",
       "19      1  If you haven't seen it for a while, you may ha...\n",
       "20      0  The humans are wooden, the computer-animals ha...\n",
       "21      1  Some thrills, but may be too much for little o...\n",
       "22      1  Like the rest of Johnston's oeuvre, Jumanji pu...\n",
       "23      1  \"This smart, scary film, is still a favorite t...\n",
       "24      0  All the effects in the world can't disguise th..."
      ]
     },
     "execution_count": 3,
     "metadata": {},
     "output_type": "execute_result"
    }
   ],
   "source": [
    "from itertools import chain\n",
    "from collections import Counter\n",
    "PATH = '../data/movie_reviews.csv'\n",
    "df = pd.read_csv(PATH)\n",
    "# Let's take a look at our initial dataframe\n",
    "df.head(25)"
   ]
  },
  {
   "cell_type": "code",
   "execution_count": 12,
   "metadata": {},
   "outputs": [
    {
     "data": {
      "text/html": [
       "<div>\n",
       "<table border=\"1\" class=\"dataframe\">\n",
       "  <thead>\n",
       "    <tr style=\"text-align: right;\">\n",
       "      <th></th>\n",
       "      <th>text</th>\n",
       "    </tr>\n",
       "    <tr>\n",
       "      <th>label</th>\n",
       "      <th></th>\n",
       "    </tr>\n",
       "  </thead>\n",
       "  <tbody>\n",
       "    <tr>\n",
       "      <th>0</th>\n",
       "      <td>62952</td>\n",
       "    </tr>\n",
       "    <tr>\n",
       "      <th>1</th>\n",
       "      <td>89658</td>\n",
       "    </tr>\n",
       "  </tbody>\n",
       "</table>\n",
       "</div>"
      ],
      "text/plain": [
       "        text\n",
       "label       \n",
       "0      62952\n",
       "1      89658"
      ]
     },
     "execution_count": 12,
     "metadata": {},
     "output_type": "execute_result"
    }
   ],
   "source": [
    "# Let's count the class balance\n",
    "df.groupby('label').count()"
   ]
  },
  {
   "cell_type": "code",
   "execution_count": 13,
   "metadata": {},
   "outputs": [
    {
     "data": {
      "text/plain": [
       "86.91152611231243"
      ]
     },
     "execution_count": 13,
     "metadata": {},
     "output_type": "execute_result"
    }
   ],
   "source": [
    "# Mean length of the review\n",
    "df[\"n_words\"] = df.text.map(lambda x: len(str(x).split(\" \")))\n",
    "df[\"n_words\"].mean()"
   ]
  },
  {
   "cell_type": "code",
   "execution_count": 14,
   "metadata": {},
   "outputs": [
    {
     "data": {
      "text/plain": [
       "[('the', 650599),\n",
       " ('a', 364399),\n",
       " ('and', 359062),\n",
       " ('of', 342897),\n",
       " ('to', 298630),\n",
       " ('is', 235123),\n",
       " ('in', 193845),\n",
       " ('that', 146420),\n",
       " ('I', 133470),\n",
       " ('this', 124605)]"
      ]
     },
     "execution_count": 14,
     "metadata": {},
     "output_type": "execute_result"
    }
   ],
   "source": [
    "# Top 10 most popolar words\n",
    "Counter(chain.from_iterable(df.text.map(lambda x: str(x).split(\" \")))).most_common(10)"
   ]
  },
  {
   "cell_type": "code",
   "execution_count": 15,
   "metadata": {},
   "outputs": [
    {
     "data": {
      "text/plain": [
       "1.8832317672498526"
      ]
     },
     "execution_count": 15,
     "metadata": {},
     "output_type": "execute_result"
    }
   ],
   "source": [
    "(df[\"n_words\"] < 4).mean() * 100"
   ]
  },
  {
   "cell_type": "code",
   "execution_count": 16,
   "metadata": {},
   "outputs": [
    {
     "data": {
      "text/plain": [
       "13.963698315968809"
      ]
     },
     "execution_count": 16,
     "metadata": {},
     "output_type": "execute_result"
    }
   ],
   "source": [
    "((df[\"n_words\"] > 3) & (df[\"n_words\"] < 11)).mean() * 100"
   ]
  },
  {
   "cell_type": "code",
   "execution_count": 17,
   "metadata": {},
   "outputs": [
    {
     "data": {
      "text/plain": [
       "52.238385426905189"
      ]
     },
     "execution_count": 17,
     "metadata": {},
     "output_type": "execute_result"
    }
   ],
   "source": [
    "((df[\"n_words\"] > 10) & (df[\"n_words\"] < 51)).mean() * 100"
   ]
  },
  {
   "cell_type": "code",
   "execution_count": 18,
   "metadata": {},
   "outputs": [
    {
     "data": {
      "text/plain": [
       "31.914684489876155"
      ]
     },
     "execution_count": 18,
     "metadata": {},
     "output_type": "execute_result"
    }
   ],
   "source": [
    "(df[\"n_words\"] > 50).mean() * 100"
   ]
  },
  {
   "cell_type": "code",
   "execution_count": 19,
   "metadata": {},
   "outputs": [
    {
     "data": {
      "text/plain": [
       "726"
      ]
     },
     "execution_count": 19,
     "metadata": {},
     "output_type": "execute_result"
    }
   ],
   "source": [
    "df.shape[0] - df.drop_duplicates().shape[0]"
   ]
  },
  {
   "cell_type": "markdown",
   "metadata": {},
   "source": [
    "## Thank you for your attention\n",
    "![](https://image.ibb.co/dmxdwQ/Screen_Shot_2017_04_15_at_01_23_55.png)"
   ]
  }
 ],
 "metadata": {
  "anaconda-cloud": {},
  "celltoolbar": "Raw Cell Format",
  "kernelspec": {
   "display_name": "Python 3",
   "language": "python",
   "name": "python3"
  },
  "language_info": {
   "codemirror_mode": {
    "name": "ipython",
    "version": 3
   },
   "file_extension": ".py",
   "mimetype": "text/x-python",
   "name": "python",
   "nbconvert_exporter": "python",
   "pygments_lexer": "ipython3",
   "version": "3.5.2"
  },
  "nbpresent": {
   "slides": {
    "57a2839b-e4bc-4dee-98b2-dc187c4285be": {
     "id": "57a2839b-e4bc-4dee-98b2-dc187c4285be",
     "prev": null,
     "regions": {
      "ecbb306a-8ff3-4534-a09b-45aa2fb66f07": {
       "attrs": {
        "height": 0.8,
        "width": 0.8,
        "x": 0.1,
        "y": 0.1
       },
       "content": {
        "cell": "c7d63e70-f262-4490-9535-eb1665d10216",
        "part": "whole"
       },
       "id": "ecbb306a-8ff3-4534-a09b-45aa2fb66f07"
      }
     }
    },
    "aa446edd-53c3-4381-b444-4f50bb3db884": {
     "id": "aa446edd-53c3-4381-b444-4f50bb3db884",
     "prev": "57a2839b-e4bc-4dee-98b2-dc187c4285be",
     "regions": {
      "6d3b3e4f-8622-4e1b-8e3f-1ba409fa6446": {
       "attrs": {
        "height": 0.8,
        "width": 0.8,
        "x": 0.1,
        "y": 0.1
       },
       "content": {
        "cell": "cd6c7b92-8547-4e75-9ebe-19184890b9fd",
        "part": "whole"
       },
       "id": "6d3b3e4f-8622-4e1b-8e3f-1ba409fa6446"
      }
     }
    }
   },
   "themes": {}
  }
 },
 "nbformat": 4,
 "nbformat_minor": 1
}
